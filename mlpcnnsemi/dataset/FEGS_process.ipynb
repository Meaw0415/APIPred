{
 "cells": [
  {
   "cell_type": "code",
   "execution_count": 13,
   "metadata": {},
   "outputs": [],
   "source": [
    "import pandas as pd"
   ]
  },
  {
   "cell_type": "code",
   "execution_count": 14,
   "metadata": {},
   "outputs": [],
   "source": [
    "input_path = \"C:/Users/asus/Desktop/API/dataset/one_to_one.xls\"\n",
    "output_path = \"C:/Users/asus/Desktop/API/dataset/one_to_one.fasta\"\n",
    "num = 1160"
   ]
  },
  {
   "cell_type": "code",
   "execution_count": 15,
   "metadata": {},
   "outputs": [],
   "source": [
    "def get_fasta(input_path,output_path,num_protein):\n",
    "    sequence_list = []\n",
    "    # f1 = open(input_path,'r')\n",
    "    df = pd.read_excel(input_path)\n",
    "    for index,row in df.iterrows():\n",
    "        sequence_list.append(row[\"protein_sequence\"])\n",
    "    with open(output_path,'w') as f:\n",
    "        for i in range(num_protein):\n",
    "            f.write(\">%d|0\\n\" % (i+1))\n",
    "            f.write(sequence_list[i])\n",
    "            f.write(\"\\n\")"
   ]
  },
  {
   "cell_type": "code",
   "execution_count": 16,
   "metadata": {},
   "outputs": [],
   "source": [
    "get_fasta(input_path,output_path,num)"
   ]
  }
 ],
 "metadata": {
  "kernelspec": {
   "display_name": "Python 3.7.0 ('base')",
   "language": "python",
   "name": "python3"
  },
  "language_info": {
   "codemirror_mode": {
    "name": "ipython",
    "version": 3
   },
   "file_extension": ".py",
   "mimetype": "text/x-python",
   "name": "python",
   "nbconvert_exporter": "python",
   "pygments_lexer": "ipython3",
   "version": "3.7.0"
  },
  "orig_nbformat": 4,
  "vscode": {
   "interpreter": {
    "hash": "88279d2366fe020547cde40dd65aa0e3aa662a6ec1f3ca12d88834876c85e1a6"
   }
  }
 },
 "nbformat": 4,
 "nbformat_minor": 2
}
