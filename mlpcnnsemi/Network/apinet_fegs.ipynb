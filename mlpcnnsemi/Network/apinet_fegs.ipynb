{
 "cells": [
  {
   "cell_type": "code",
   "execution_count": 9,
   "metadata": {},
   "outputs": [],
   "source": [
    "import torch \n",
    "import torch.optim as optim\n",
    "from torch.utils.data import DataLoader\n",
    "import torch.nn as nn\n",
    "import torch.nn.functional as F\n",
    "from tqdm import tqdm\n",
    "import numpy as np\n",
    "\n",
    "from API_utils.dataset_FEGS import API_FEGS_Class\n"
   ]
  },
  {
   "cell_type": "code",
   "execution_count": 10,
   "metadata": {},
   "outputs": [],
   "source": [
    "DATASET_PATH = \"C:/Users/asus/Desktop/API/dataset/one_to_one.xls\"\n",
    "DATASET_MAT_PATH = \"C:/Users/asus/Desktop/API/dataset/one_to_one.mat\"\n",
    "TEST_DATASET_PATH = \"C:/Users/asus/Desktop/API/dataset/test.xlsx\"\n",
    "TEST_DATASET_MAT_PATH = \"C:/Users/asus/Desktop/API/dataset/test.mat\"\n",
    "SAVE_MODEL_PATH = \"C:/Users/asus/Desktop/API/Model/\"\n",
    "DEVICE= torch.device(\"cuda:0\" if torch.cuda.is_available() else \"cpu\")\n",
    "EPOCH = 1000\n",
    "lr=0.0001"
   ]
  },
  {
   "cell_type": "code",
   "execution_count": 11,
   "metadata": {},
   "outputs": [
    {
     "name": "stdout",
     "output_type": "stream",
     "text": [
      "cuda:0\n"
     ]
    }
   ],
   "source": [
    "print(DEVICE)"
   ]
  },
  {
   "cell_type": "code",
   "execution_count": 12,
   "metadata": {},
   "outputs": [],
   "source": [
    "train_data = API_FEGS_Class(DATASET_PATH,DATASET_MAT_PATH,'abc')\n",
    "test_data = API_FEGS_Class(TEST_DATASET_PATH,TEST_DATASET_MAT_PATH,'test')"
   ]
  },
  {
   "cell_type": "code",
   "execution_count": 13,
   "metadata": {},
   "outputs": [],
   "source": [
    "class NeuralNet(nn.Module):\n",
    "    def __init__(self, lrate = 0.001, loss_fn = nn.CrossEntropyLoss()):\n",
    "        super(NeuralNet, self).__init__()\n",
    "\n",
    "\n",
    "        self.conv1 = nn.Sequential(nn.Conv1d(1,8,kernel_size=1),\n",
    "                                   nn.BatchNorm1d(8),\n",
    "                                   nn.LeakyReLU()\n",
    "        )\n",
    "        self.conv2 = nn.Sequential(nn.Conv1d(8,16,kernel_size=1),\n",
    "                                   nn.BatchNorm1d(16),\n",
    "                                   nn.LeakyReLU()\n",
    "        )\n",
    "        self.conv3 = nn.Sequential(nn.Conv1d(1,8,kernel_size=3,stride=2),\n",
    "                                   nn.BatchNorm1d(8),\n",
    "                                   nn.LeakyReLU()\n",
    "        )\n",
    "        self.conv4 = nn.Sequential(nn.Conv1d(8,16,kernel_size=3,stride=2),\n",
    "                                   nn.BatchNorm1d(16),\n",
    "                                   nn.LeakyReLU()\n",
    "        )\n",
    "\n",
    "        self.conv5 = nn.Sequential(nn.Conv1d(16,8,kernel_size=3,stride=2),\n",
    "                                   nn.BatchNorm1d(8),\n",
    "                                   nn.MaxPool1d(kernel_size=2),\n",
    "                                   nn.LeakyReLU()\n",
    "        )\n",
    "        self.conv6 = nn.Sequential(nn.Conv1d(8,1,kernel_size=3,stride=2),\n",
    "                                   nn.BatchNorm1d(1),\n",
    "                                   nn.MaxPool1d(kernel_size=2),\n",
    "                                   nn.LeakyReLU()\n",
    "        )\n",
    "\n",
    "        self.conv7 = nn.Linear(12,2)\n",
    "        self.conv8 = nn.Linear(2,1)\n",
    "\n",
    "        self.loss_fn = loss_fn\n",
    "        self.lrate=lrate        \n",
    "        self.optimizer=optim.SGD(self.parameters(),self.lrate,momentum=0.9)\n",
    "    def forward(self, rna, protein):\n",
    "        \"\"\"Performs a forward pass through your neural net (evaluates f(x)).\n",
    "\n",
    "        @param x: an (N, in_size) Tensor\n",
    "        @return y: an (N, out_size) Tensor of output from the network\n",
    "        \"\"\"\n",
    "        '''\n",
    "        extractor for protein \n",
    "        '''\n",
    "        \n",
    "        rna = self.conv1(rna)\n",
    "        rna = self.conv2(rna)\n",
    "        # print(rna.shape)\n",
    "        protein = self.conv3(protein)\n",
    "        \n",
    "        protein = self.conv4(protein)\n",
    "        # print(protein.shape)\n",
    "        x = torch.cat((rna,protein),dim=2)\n",
    "        x = self.conv5(x)\n",
    "        x = self.conv6(x)\n",
    "        # print(x.shape)\n",
    "        x = self.conv7(x)\n",
    "        x = self.conv8(x)\n",
    "        x = torch.squeeze(x,dim=0)\n",
    "        return x\n"
   ]
  },
  {
   "cell_type": "code",
   "execution_count": 14,
   "metadata": {},
   "outputs": [],
   "source": [
    "train_data_loader = DataLoader(train_data,batch_size=1,shuffle=True)\n",
    "test_data_loader = DataLoader(test_data,batch_size=1,shuffle=True)\n",
    "Net = NeuralNet().to(DEVICE)\n",
    "optimizer = optim.SGD(params=Net.parameters(),lr=lr,momentum=0.9)\n",
    "loss_fn = nn.BCEWithLogitsLoss()\n"
   ]
  },
  {
   "cell_type": "code",
   "execution_count": 15,
   "metadata": {},
   "outputs": [],
   "source": [
    "def evaluate(model_path,test_data_loader,device=DEVICE):\n",
    "    count=0\n",
    "    acc = 0\n",
    "    model = torch.load(model_path)\n",
    "    for idx, data in enumerate(test_data_loader):\n",
    "        api_input, api_label = data\n",
    "        count+=1\n",
    "        rna_input = api_input[:,0:64]\n",
    "        # print(rna_input)\n",
    "        protein_input = api_input[:,64:]\n",
    "        rna_input = torch.unsqueeze(rna_input,dim=0)\n",
    "        protein_input = torch.unsqueeze(protein_input,dim=0)\n",
    "        #api_label = torch.unsqueeze(api_label,dim=0)\n",
    "        rna_input = rna_input.to(dtype=torch.float32).to(DEVICE)\n",
    "        protein_input = protein_input.to(dtype=torch.float32).to(DEVICE)\n",
    "        output = model(rna_input,protein_input).to(DEVICE)\n",
    "        if(torch.round(torch.sigmoid(output))==api_label[0]):\n",
    "            acc+=1\n",
    "\n",
    "    \n",
    "    print(\"Accuracy\",acc/count)"
   ]
  },
  {
   "cell_type": "code",
   "execution_count": 16,
   "metadata": {},
   "outputs": [
    {
     "name": "stderr",
     "output_type": "stream",
     "text": [
      "  0%|          | 0/1160 [00:00<?, ?it/s]"
     ]
    },
    {
     "name": "stdout",
     "output_type": "stream",
     "text": [
      "torch.Size([1, 1, 578])\n",
      "tensor([[[0.9056, 0.9071, 0.8994, 0.9005, 0.9048, 0.8931, 0.8988, 0.8948,\n",
      "          0.8996, 0.9000, 0.9021, 0.9028, 0.8973, 0.8966, 0.8970, 0.9013,\n",
      "          0.9056, 0.9055, 0.8978, 0.8973, 0.8963, 0.8977, 0.9029, 0.9009,\n",
      "          0.8961, 0.9015, 0.8975, 0.9050, 0.9006, 0.9047, 0.8939, 0.8958,\n",
      "          0.8970, 0.8999, 0.9022, 0.8977, 0.8955, 0.9017, 0.8968, 0.9042,\n",
      "          0.9036, 0.8966, 0.9087, 0.8998, 0.8992, 0.8959, 0.8985, 0.9076,\n",
      "          0.8978, 0.8958, 0.8953, 0.8963, 0.8972, 0.9039, 0.8954, 0.9021,\n",
      "          0.9026, 0.9111, 0.8955, 0.9036, 0.8966, 0.8995, 0.9032, 0.9031,\n",
      "          0.8965, 0.8997, 0.8949, 0.8978, 0.8959, 0.9032, 0.8943, 0.9038,\n",
      "          0.9046, 0.8957, 0.8970, 0.8979, 0.8941, 0.8988, 0.8978, 0.8953,\n",
      "          0.8967, 0.8953, 0.9021, 0.8985, 0.9059, 0.9001, 0.9051, 0.9010,\n",
      "          0.9023, 0.8950, 0.8954, 0.8981, 0.9055, 0.9043, 0.8954, 0.8953,\n",
      "          0.8949, 0.9029, 0.8963, 0.9102, 0.8958, 0.8983, 0.9064, 0.8982,\n",
      "          0.8955, 0.8960, 0.9001, 0.9028, 0.9011, 0.8955, 0.8938, 0.9032,\n",
      "          0.9083, 0.9012, 0.8943, 0.9012, 0.8977, 0.8950, 0.8938, 0.8951,\n",
      "          0.8934, 0.8939, 0.8945, 0.8976, 0.9058, 0.8977, 0.9009, 0.9003,\n",
      "          0.9074, 0.8970, 0.9025, 0.9078, 0.9005, 0.9088, 0.8995, 0.8952,\n",
      "          0.8956, 0.8993, 0.8963, 0.8990, 0.9030, 0.8995, 0.9026, 0.9031,\n",
      "          0.8960, 0.9006, 0.8988, 0.9055, 0.9033, 0.9073, 0.9002, 0.9042,\n",
      "          0.9131, 0.9081, 0.9119, 0.9117, 0.9146, 0.9064, 0.0325, 0.0407,\n",
      "          0.0732, 0.0569, 0.0244, 0.0244, 0.1057, 0.0163, 0.0244, 0.0894,\n",
      "          0.0976, 0.0976, 0.0244, 0.0813, 0.0488, 0.0407, 0.0244, 0.0325,\n",
      "          0.0163, 0.0488, 0.0082, 0.0000, 0.0000, 0.0082, 0.0000, 0.0000,\n",
      "          0.0082, 0.0000, 0.0000, 0.0000, 0.0000, 0.0082, 0.0000, 0.0000,\n",
      "          0.0000, 0.0000, 0.0000, 0.0000, 0.0000, 0.0000, 0.0000, 0.0000,\n",
      "          0.0000, 0.0000, 0.0000, 0.0164, 0.0000, 0.0000, 0.0000, 0.0000,\n",
      "          0.0082, 0.0082, 0.0000, 0.0082, 0.0000, 0.0000, 0.0000, 0.0000,\n",
      "          0.0000, 0.0000, 0.0000, 0.0000, 0.0082, 0.0082, 0.0000, 0.0000,\n",
      "          0.0328, 0.0000, 0.0000, 0.0000, 0.0000, 0.0000, 0.0082, 0.0082,\n",
      "          0.0000, 0.0000, 0.0000, 0.0000, 0.0000, 0.0082, 0.0000, 0.0082,\n",
      "          0.0082, 0.0000, 0.0000, 0.0000, 0.0000, 0.0000, 0.0000, 0.0164,\n",
      "          0.0082, 0.0000, 0.0082, 0.0082, 0.0000, 0.0000, 0.0000, 0.0000,\n",
      "          0.0000, 0.0000, 0.0000, 0.0000, 0.0000, 0.0000, 0.0000, 0.0000,\n",
      "          0.0000, 0.0000, 0.0000, 0.0000, 0.0082, 0.0000, 0.0000, 0.0082,\n",
      "          0.0000, 0.0000, 0.0000, 0.0082, 0.0000, 0.0000, 0.0082, 0.0000,\n",
      "          0.0000, 0.0000, 0.0000, 0.0000, 0.0000, 0.0000, 0.0000, 0.0000,\n",
      "          0.0000, 0.0000, 0.0000, 0.0000, 0.0082, 0.0000, 0.0000, 0.0000,\n",
      "          0.0000, 0.0082, 0.0000, 0.0082, 0.0000, 0.0164, 0.0000, 0.0082,\n",
      "          0.0000, 0.0000, 0.0000, 0.0164, 0.0246, 0.0000, 0.0000, 0.0000,\n",
      "          0.0000, 0.0164, 0.0000, 0.0000, 0.0082, 0.0082, 0.0000, 0.0000,\n",
      "          0.0000, 0.0000, 0.0000, 0.0000, 0.0082, 0.0000, 0.0000, 0.0000,\n",
      "          0.0000, 0.0000, 0.0000, 0.0000, 0.0082, 0.0000, 0.0000, 0.0000,\n",
      "          0.0000, 0.0000, 0.0000, 0.0000, 0.0000, 0.0000, 0.0000, 0.0000,\n",
      "          0.0000, 0.0000, 0.0000, 0.0000, 0.0082, 0.0000, 0.0000, 0.0000,\n",
      "          0.0000, 0.0164, 0.0000, 0.0000, 0.0000, 0.0000, 0.0164, 0.0000,\n",
      "          0.0082, 0.0000, 0.0000, 0.0000, 0.0000, 0.0000, 0.0000, 0.0164,\n",
      "          0.0082, 0.0082, 0.0000, 0.0082, 0.0082, 0.0082, 0.0000, 0.0082,\n",
      "          0.0000, 0.0000, 0.0000, 0.0082, 0.0082, 0.0000, 0.0082, 0.0000,\n",
      "          0.0164, 0.0000, 0.0000, 0.0164, 0.0082, 0.0164, 0.0000, 0.0000,\n",
      "          0.0000, 0.0000, 0.0000, 0.0000, 0.0082, 0.0082, 0.0000, 0.0082,\n",
      "          0.0000, 0.0000, 0.0164, 0.0000, 0.0164, 0.0082, 0.0164, 0.0000,\n",
      "          0.0000, 0.0082, 0.0000, 0.0082, 0.0000, 0.0000, 0.0082, 0.0000,\n",
      "          0.0000, 0.0082, 0.0000, 0.0000, 0.0000, 0.0000, 0.0000, 0.0000,\n",
      "          0.0000, 0.0000, 0.0000, 0.0082, 0.0082, 0.0000, 0.0000, 0.0000,\n",
      "          0.0082, 0.0000, 0.0000, 0.0000, 0.0000, 0.0000, 0.0000, 0.0082,\n",
      "          0.0164, 0.0164, 0.0000, 0.0000, 0.0000, 0.0082, 0.0082, 0.0000,\n",
      "          0.0082, 0.0000, 0.0000, 0.0000, 0.0082, 0.0000, 0.0000, 0.0000,\n",
      "          0.0000, 0.0082, 0.0000, 0.0000, 0.0082, 0.0000, 0.0000, 0.0000,\n",
      "          0.0082, 0.0000, 0.0000, 0.0164, 0.0000, 0.0000, 0.0000, 0.0000,\n",
      "          0.0082, 0.0000, 0.0000, 0.0082, 0.0000, 0.0000, 0.0000, 0.0000,\n",
      "          0.0000, 0.0082, 0.0000, 0.0000, 0.0000, 0.0000, 0.0000, 0.0000,\n",
      "          0.0082, 0.0164, 0.0000, 0.0082, 0.0000, 0.0000, 0.0000, 0.0000,\n",
      "          0.0000, 0.0000, 0.0000, 0.0000, 0.0082, 0.0000, 0.0000, 0.0000,\n",
      "          0.0000, 0.0000, 0.0000, 0.0000, 0.0000, 0.0164, 0.0000, 0.0000,\n",
      "          0.0000, 0.0000, 0.0000, 0.0000, 0.0000, 0.0000, 0.0000, 0.0000,\n",
      "          0.0000, 0.0000, 0.0000, 0.0000, 0.0164, 0.0000, 0.0000, 0.0000,\n",
      "          0.0000, 0.0082, 0.0000, 0.0082, 0.0000, 0.0000, 0.0000, 0.0000,\n",
      "          0.0000, 0.0000, 0.0000, 0.0000, 0.0000, 0.0000, 0.0000, 0.0000,\n",
      "          0.0000, 0.0000, 0.0000, 0.0000, 0.0000, 0.0082, 0.0000, 0.0000,\n",
      "          0.0000, 0.0000, 0.0082, 0.0000, 0.0000, 0.0000, 0.0000, 0.0000,\n",
      "          0.0000, 0.0000, 0.0000, 0.0000, 0.0000, 0.0000, 0.0000, 0.0000,\n",
      "          0.0000, 0.0000, 0.0082, 0.0164, 0.0000, 0.0000, 0.0082, 0.0082,\n",
      "          0.0000, 0.0000]]], device='cuda:0', dtype=torch.float64)\n"
     ]
    },
    {
     "name": "stderr",
     "output_type": "stream",
     "text": [
      "\n"
     ]
    },
    {
     "ename": "NameError",
     "evalue": "name 'Loss' is not defined",
     "output_type": "error",
     "traceback": [
      "\u001b[1;31m---------------------------------------------------------------------------\u001b[0m",
      "\u001b[1;31mNameError\u001b[0m                                 Traceback (most recent call last)",
      "\u001b[1;32m<ipython-input-16-5861ad64c170>\u001b[0m in \u001b[0;36m<module>\u001b[1;34m()\u001b[0m\n\u001b[0;32m     22\u001b[0m         \u001b[0moptimizer\u001b[0m\u001b[1;33m.\u001b[0m\u001b[0mstep\u001b[0m\u001b[1;33m(\u001b[0m\u001b[1;33m)\u001b[0m\u001b[1;33m\u001b[0m\u001b[0m\n\u001b[0;32m     23\u001b[0m \u001b[1;33m\u001b[0m\u001b[0m\n\u001b[1;32m---> 24\u001b[1;33m     \u001b[0mprint\u001b[0m\u001b[1;33m(\u001b[0m\u001b[1;34m\"Loss\"\u001b[0m\u001b[1;33m,\u001b[0m\u001b[0mLoss\u001b[0m\u001b[1;33m.\u001b[0m\u001b[0mitem\u001b[0m\u001b[1;33m(\u001b[0m\u001b[1;33m)\u001b[0m\u001b[1;33m)\u001b[0m\u001b[1;33m\u001b[0m\u001b[0m\n\u001b[0m\u001b[0;32m     25\u001b[0m     \u001b[0msave_path\u001b[0m \u001b[1;33m=\u001b[0m \u001b[0mSAVE_MODEL_PATH\u001b[0m\u001b[1;33m+\u001b[0m\u001b[1;34mf'Epoch={epoch}_lr={lr}.pth'\u001b[0m\u001b[1;33m\u001b[0m\u001b[0m\n\u001b[0;32m     26\u001b[0m     \u001b[0mtorch\u001b[0m\u001b[1;33m.\u001b[0m\u001b[0msave\u001b[0m\u001b[1;33m(\u001b[0m\u001b[0mNet\u001b[0m\u001b[1;33m,\u001b[0m \u001b[0msave_path\u001b[0m\u001b[1;33m)\u001b[0m\u001b[1;33m\u001b[0m\u001b[0m\n",
      "\u001b[1;31mNameError\u001b[0m: name 'Loss' is not defined"
     ]
    }
   ],
   "source": [
    "for epoch in range(EPOCH):\n",
    "    for data in tqdm(train_data_loader):\n",
    "        api_input, api_label = data\n",
    "        api_input = api_input.to(DEVICE)\n",
    "        api_label = api_label.to(DEVICE)\n",
    "        rna_input = api_input[:,0:64]\n",
    "        # print(api_input.shape)\n",
    "        protein_input = api_input[:,64:]\n",
    "        rna_input = torch.unsqueeze(rna_input,dim=0)\n",
    "        protein_input = torch.unsqueeze(protein_input,dim=0)\n",
    "\n",
    "        api_label = torch.unsqueeze(api_label,dim=0).to(dtype=torch.float32)\n",
    "        rna_input = rna_input.to(dtype=torch.float32)\n",
    "        protein_input = protein_input.to(dtype=torch.float32)\n",
    "        output = Net(rna_input,protein_input)\n",
    "        break\n",
    "        # print(output)\n",
    "        optimizer.zero_grad()    \n",
    "        Loss = loss_fn(output, api_label)  \n",
    "        Loss.backward()  \n",
    "        optimizer.step()\n",
    "\n",
    "    print(\"Loss\",Loss.item())\n",
    "    save_path = SAVE_MODEL_PATH+f'Epoch={epoch}_lr={lr}.pth'\n",
    "    torch.save(Net, save_path)\n",
    "    evaluate(SAVE_MODEL_PATH+f'Epoch={epoch}_lr={lr}.pth',test_data_loader)\n",
    "    \n",
    "torch.save(Net, SAVE_MODEL_PATH+f'Epoch={epoch}_lr={lr}_final.pth')\n",
    "print('CSX')"
   ]
  },
  {
   "cell_type": "code",
   "execution_count": null,
   "metadata": {},
   "outputs": [],
   "source": [
    "model=torch.load(SAVE_MODEL_PATH+f'Epoch={epoch}_lr={lr}_final.pth')"
   ]
  },
  {
   "cell_type": "code",
   "execution_count": null,
   "metadata": {},
   "outputs": [],
   "source": [
    "\n",
    "acc=0\n",
    "count=0\n",
    "for idx, data in enumerate(test_data_loader):\n",
    "    api_input, api_label = data\n",
    "    count+=1\n",
    "    rna_input = api_input[:,0:64]\n",
    "    protein_input = api_input[:,64:909]\n",
    "    rna_input = torch.unsqueeze(rna_input,dim=0)\n",
    "    protein_input = torch.unsqueeze(protein_input,dim=0)\n",
    "    #api_label = torch.unsqueeze(api_label,dim=0)\n",
    "    rna_input = rna_input.to(dtype=torch.float32)\n",
    "    protein_input = protein_input.to(dtype=torch.float32)\n",
    "    output = model(rna_input,protein_input)\n",
    "    if(torch.argmax(output)==api_label[0]):\n",
    "        acc+=1\n",
    "\n",
    "    \n",
    "print(acc/count)\n",
    "\n"
   ]
  }
 ],
 "metadata": {
  "kernelspec": {
   "display_name": "Python 3.7.0 ('base')",
   "language": "python",
   "name": "python3"
  },
  "language_info": {
   "codemirror_mode": {
    "name": "ipython",
    "version": 3
   },
   "file_extension": ".py",
   "mimetype": "text/x-python",
   "name": "python",
   "nbconvert_exporter": "python",
   "pygments_lexer": "ipython3",
   "version": "3.7.0"
  },
  "orig_nbformat": 4,
  "vscode": {
   "interpreter": {
    "hash": "88279d2366fe020547cde40dd65aa0e3aa662a6ec1f3ca12d88834876c85e1a6"
   }
  }
 },
 "nbformat": 4,
 "nbformat_minor": 2
}
