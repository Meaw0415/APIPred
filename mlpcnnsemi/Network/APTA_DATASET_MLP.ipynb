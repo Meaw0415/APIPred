{
 "cells": [
  {
   "cell_type": "code",
   "execution_count": 37,
   "metadata": {},
   "outputs": [],
   "source": [
    "import torch \n",
    "import torch.optim as optim\n",
    "from torch.utils.data import DataLoader\n",
    "from tqdm import tqdm\n",
    "from API_utils.dataset_api import API_Class"
   ]
  },
  {
   "cell_type": "code",
   "execution_count": 38,
   "metadata": {},
   "outputs": [],
   "source": [
    "DATASET_PATH = \"Z:/mlpcnnsemi/dataset/train_Dataset.csv\"\n",
    "TEST_DATASET_PATH = \"Z:/mlpcnnsemi/dataset/test_Dataset.csv\"\n",
    "SAVE_MODEL_PATH = \"Z:/mlpcnnsemi/model/mlp/82\"\n",
    "DEVICE= torch.device(\"cuda:0\" if torch.cuda.is_available() else \"cpu\")\n",
    "EPOCH = 100\n",
    "lr=0.0001\n",
    "BATCHSIZE=20"
   ]
  },
  {
   "cell_type": "code",
   "execution_count": 39,
   "metadata": {},
   "outputs": [],
   "source": [
    "train_data = API_Class(DATASET_PATH)\n",
    "test_data = API_Class(TEST_DATASET_PATH)"
   ]
  },
  {
   "cell_type": "code",
   "execution_count": 43,
   "metadata": {},
   "outputs": [],
   "source": [
    "#csx single input\n",
    "import numpy as np\n",
    "\n",
    "import torch\n",
    "import torch.nn as nn\n",
    "import torch.nn.functional as F\n",
    "import torch.optim as optim\n",
    "\n",
    "class MLP(nn.Module):\n",
    "    def __init__(self, lrate = 0.0001, loss_fn = nn.CrossEntropyLoss()):\n",
    "        super(MLP, self).__init__()\n",
    "\n",
    "        self.fc1 = nn.Sequential(nn.Linear(640,320),\n",
    "                                    nn.ReLU()\n",
    "        )\n",
    "        self.fc2 = nn.Sequential(nn.Linear(320,160),\n",
    "                                    nn.ReLU()\n",
    "        )\n",
    "        self.fc3 = nn.Sequential(nn.Linear(160,40),\n",
    "                                    nn.ReLU()\n",
    "        )\n",
    "        self.fc4 = nn.Sequential(nn.Linear(40,2),\n",
    "                                    nn.ReLU()\n",
    "        )        \n",
    "        # self.ln1 = torch.nn.Linear(640,160)\n",
    "        # self.ln2 = torch.nn.Linear(160,40)\n",
    "        # self.ln3 = torch.nn.Linear(40,10)\n",
    "        # self.ln4 = torch.nn.Linear(10,2)\n",
    "        # self.ln5 = torch.nn.Linear(2,1)\n",
    "\n",
    "        \n",
    "        \n",
    "        self.loss_fn = loss_fn\n",
    "        self.lrate=lrate        \n",
    "        self.optimizer=optim.SGD(self.parameters(),self.lrate,momentum=0.9)\n",
    "    def forward(self, x):\n",
    "        \"\"\"Performs a forward pass through your neural net (evaluates f(x)).\n",
    "\n",
    "        @param x: an (N, in_size) Tensor\n",
    "        @return y: an (N, out_size) Tensor of output from the network\n",
    "        \"\"\"\n",
    "        '''\n",
    "        extractor for protein \n",
    "        '''\n",
    "        x = self.fc1(x)\n",
    "        x = self.fc2(x)\n",
    "        x = self.fc3(x)\n",
    "        x = self.fc4(x)\n",
    "        \n",
    "\n",
    "\n",
    "        x = torch.squeeze(x,dim=0)\n",
    "        return x\n",
    "\n"
   ]
  },
  {
   "cell_type": "code",
   "execution_count": 44,
   "metadata": {},
   "outputs": [],
   "source": [
    "# mlp\n",
    "train_data_loader = DataLoader(train_data,batch_size=BATCHSIZE,shuffle=True)\n",
    "test_data_loader = DataLoader(test_data,batch_size=BATCHSIZE,shuffle=True)\n",
    "Net = MLP().to(DEVICE)\n",
    "optimizer = optim.Adam(params=Net.parameters(),lr=lr)\n",
    "loss_fn = nn.CrossEntropyLoss()"
   ]
  },
  {
   "cell_type": "code",
   "execution_count": 45,
   "metadata": {},
   "outputs": [],
   "source": [
    "#single input\n",
    "def evaluate(model_path,test_data_loader,device=DEVICE):\n",
    "    # count=0\n",
    "    # acc = 0\n",
    "    tp=0\n",
    "    tn=0\n",
    "    fp=0\n",
    "    fn=0\n",
    "    model = torch.load(model_path)\n",
    "    for idx, data in enumerate(test_data_loader):\n",
    "        api_input, api_label = data\n",
    "        # count+=1\n",
    "        # rna_input = api_input[:,1:341]\n",
    "        # protein_input = api_input[:,341:641]\n",
    "        # rna_input = torch.unsqueeze(rna_input,dim=0)\n",
    "        # protein_input = torch.unsqueeze(protein_input,dim=0)\n",
    "        # #api_label = torch.unsqueeze(api_label,dim=0)\n",
    "        # rna_input = rna_input.to(dtype=torch.float32).to(DEVICE)\n",
    "        # protein_input = protein_input.to(dtype=torch.float32).to(DEVICE)\n",
    "\n",
    "        api_input = torch.unsqueeze(api_input,dim=0)\n",
    "        api_input = api_input.to(dtype=torch.float32).to(DEVICE)\n",
    "        output = model(api_input).to(DEVICE)\n",
    "        # print(output.shape[0])\n",
    "        for i in range(output.shape[0]):\n",
    "            if(torch.argmax(output[i])==api_label[i] and api_label[i]==0):\n",
    "                tn+=1\n",
    "            elif(torch.argmax(output[i])==api_label[i] and api_label[i]==1):\n",
    "                tp+=1\n",
    "            elif(torch.argmax(output[i])!=api_label[i] and api_label[i]==1):   \n",
    "                fn+=1\n",
    "            elif(torch.argmax(output[i])!=api_label[i] and api_label[i]==0):\n",
    "                fp+=1       \n",
    "\n",
    "    Accuracy=(tp+tn+2)/(tp+tn+fn+fp+4)\n",
    "    P = (tp+1)/ (tp+fp+2)\n",
    "    R = (tp+1)/ (tp+fn+2)\n",
    "    print(Accuracy)\n",
    "    return Accuracy,P,R"
   ]
  },
  {
   "cell_type": "code",
   "execution_count": 46,
   "metadata": {},
   "outputs": [
    {
     "name": "stderr",
     "output_type": "stream",
     "text": [
      "100%|██████████| 137/137 [00:00<00:00, 301.90it/s]\n"
     ]
    },
    {
     "name": "stdout",
     "output_type": "stream",
     "text": [
      "0.75\n",
      "0.7485380116959064\n"
     ]
    },
    {
     "name": "stderr",
     "output_type": "stream",
     "text": [
      "100%|██████████| 137/137 [00:00<00:00, 333.41it/s]\n"
     ]
    },
    {
     "name": "stdout",
     "output_type": "stream",
     "text": [
      "0.751099706744868\n",
      "0.75\n"
     ]
    },
    {
     "name": "stderr",
     "output_type": "stream",
     "text": [
      "100%|██████████| 137/137 [00:00<00:00, 331.79it/s]\n"
     ]
    },
    {
     "name": "stdout",
     "output_type": "stream",
     "text": [
      "0.751099706744868\n",
      "0.75\n"
     ]
    },
    {
     "name": "stderr",
     "output_type": "stream",
     "text": [
      "100%|██████████| 137/137 [00:00<00:00, 355.87it/s]\n"
     ]
    },
    {
     "name": "stdout",
     "output_type": "stream",
     "text": [
      "0.751099706744868\n",
      "0.75\n"
     ]
    },
    {
     "name": "stderr",
     "output_type": "stream",
     "text": [
      "100%|██████████| 137/137 [00:00<00:00, 327.06it/s]\n"
     ]
    },
    {
     "name": "stdout",
     "output_type": "stream",
     "text": [
      "0.7620967741935484\n",
      "0.7690058479532164\n"
     ]
    },
    {
     "name": "stderr",
     "output_type": "stream",
     "text": [
      "100%|██████████| 137/137 [00:00<00:00, 324.74it/s]\n"
     ]
    },
    {
     "name": "stdout",
     "output_type": "stream",
     "text": [
      "0.7723607038123167\n",
      "0.7792397660818714\n"
     ]
    },
    {
     "name": "stderr",
     "output_type": "stream",
     "text": [
      "100%|██████████| 137/137 [00:00<00:00, 333.41it/s]\n"
     ]
    },
    {
     "name": "stdout",
     "output_type": "stream",
     "text": [
      "0.782258064516129\n",
      "0.7865497076023392\n"
     ]
    },
    {
     "name": "stderr",
     "output_type": "stream",
     "text": [
      "100%|██████████| 137/137 [00:00<00:00, 333.41it/s]\n"
     ]
    },
    {
     "name": "stdout",
     "output_type": "stream",
     "text": [
      "0.7972873900293255\n",
      "0.8026315789473685\n"
     ]
    },
    {
     "name": "stderr",
     "output_type": "stream",
     "text": [
      "100%|██████████| 137/137 [00:00<00:00, 329.42it/s]\n"
     ]
    },
    {
     "name": "stdout",
     "output_type": "stream",
     "text": [
      "0.8101173020527859\n",
      "0.8157894736842105\n"
     ]
    },
    {
     "name": "stderr",
     "output_type": "stream",
     "text": [
      "100%|██████████| 137/137 [00:00<00:00, 341.71it/s]\n"
     ]
    },
    {
     "name": "stdout",
     "output_type": "stream",
     "text": [
      "0.8229472140762464\n",
      "0.8391812865497076\n"
     ]
    },
    {
     "name": "stderr",
     "output_type": "stream",
     "text": [
      "100%|██████████| 137/137 [00:00<00:00, 269.87it/s]\n"
     ]
    },
    {
     "name": "stdout",
     "output_type": "stream",
     "text": [
      "0.8262463343108505\n",
      "0.8289473684210527\n"
     ]
    },
    {
     "name": "stderr",
     "output_type": "stream",
     "text": [
      "100%|██████████| 137/137 [00:00<00:00, 265.69it/s]\n"
     ]
    },
    {
     "name": "stdout",
     "output_type": "stream",
     "text": [
      "0.8313782991202346\n",
      "0.8245614035087719\n"
     ]
    },
    {
     "name": "stderr",
     "output_type": "stream",
     "text": [
      "100%|██████████| 137/137 [00:00<00:00, 269.87it/s]\n"
     ]
    },
    {
     "name": "stdout",
     "output_type": "stream",
     "text": [
      "0.844208211143695\n",
      "0.8581871345029239\n"
     ]
    },
    {
     "name": "stderr",
     "output_type": "stream",
     "text": [
      "100%|██████████| 137/137 [00:00<00:00, 253.44it/s]\n"
     ]
    },
    {
     "name": "stdout",
     "output_type": "stream",
     "text": [
      "0.8372434017595308\n",
      "0.827485380116959\n"
     ]
    },
    {
     "name": "stderr",
     "output_type": "stream",
     "text": [
      "100%|██████████| 137/137 [00:00<00:00, 247.51it/s]\n"
     ]
    },
    {
     "name": "stdout",
     "output_type": "stream",
     "text": [
      "0.8618035190615836\n",
      "0.8669590643274854\n"
     ]
    },
    {
     "name": "stderr",
     "output_type": "stream",
     "text": [
      "100%|██████████| 137/137 [00:00<00:00, 256.28it/s]\n"
     ]
    },
    {
     "name": "stdout",
     "output_type": "stream",
     "text": [
      "0.8680351906158358\n",
      "0.868421052631579\n"
     ]
    },
    {
     "name": "stderr",
     "output_type": "stream",
     "text": [
      "100%|██████████| 137/137 [00:00<00:00, 259.18it/s]\n"
     ]
    },
    {
     "name": "stdout",
     "output_type": "stream",
     "text": [
      "0.875\n",
      "0.8757309941520468\n"
     ]
    },
    {
     "name": "stderr",
     "output_type": "stream",
     "text": [
      "100%|██████████| 137/137 [00:00<00:00, 252.98it/s]\n"
     ]
    },
    {
     "name": "stdout",
     "output_type": "stream",
     "text": [
      "0.8834310850439883\n",
      "0.8830409356725146\n"
     ]
    },
    {
     "name": "stderr",
     "output_type": "stream",
     "text": [
      "100%|██████████| 137/137 [00:00<00:00, 249.30it/s]\n"
     ]
    },
    {
     "name": "stdout",
     "output_type": "stream",
     "text": [
      "0.8892961876832844\n",
      "0.8859649122807017\n"
     ]
    },
    {
     "name": "stderr",
     "output_type": "stream",
     "text": [
      "100%|██████████| 137/137 [00:00<00:00, 249.76it/s]\n"
     ]
    },
    {
     "name": "stdout",
     "output_type": "stream",
     "text": [
      "0.8867302052785924\n",
      "0.8801169590643275\n"
     ]
    },
    {
     "name": "stderr",
     "output_type": "stream",
     "text": [
      "100%|██████████| 137/137 [00:00<00:00, 252.05it/s]\n"
     ]
    },
    {
     "name": "stdout",
     "output_type": "stream",
     "text": [
      "0.8826979472140762\n",
      "0.8771929824561403\n"
     ]
    },
    {
     "name": "stderr",
     "output_type": "stream",
     "text": [
      "100%|██████████| 137/137 [00:00<00:00, 263.15it/s]\n"
     ]
    },
    {
     "name": "stdout",
     "output_type": "stream",
     "text": [
      "0.9006598240469208\n",
      "0.8903508771929824\n"
     ]
    },
    {
     "name": "stderr",
     "output_type": "stream",
     "text": [
      "100%|██████████| 137/137 [00:00<00:00, 252.05it/s]\n"
     ]
    },
    {
     "name": "stdout",
     "output_type": "stream",
     "text": [
      "0.908724340175953\n",
      "0.902046783625731\n"
     ]
    },
    {
     "name": "stderr",
     "output_type": "stream",
     "text": [
      "100%|██████████| 137/137 [00:00<00:00, 264.67it/s]\n"
     ]
    },
    {
     "name": "stdout",
     "output_type": "stream",
     "text": [
      "0.905425219941349\n",
      "0.8918128654970761\n"
     ]
    },
    {
     "name": "stderr",
     "output_type": "stream",
     "text": [
      "100%|██████████| 137/137 [00:00<00:00, 255.80it/s]\n"
     ]
    },
    {
     "name": "stdout",
     "output_type": "stream",
     "text": [
      "0.9090909090909091\n",
      "0.8874269005847953\n"
     ]
    },
    {
     "name": "stderr",
     "output_type": "stream",
     "text": [
      "100%|██████████| 137/137 [00:00<00:00, 249.30it/s]\n"
     ]
    },
    {
     "name": "stdout",
     "output_type": "stream",
     "text": [
      "0.9182551319648093\n",
      "0.9064327485380117\n"
     ]
    },
    {
     "name": "stderr",
     "output_type": "stream",
     "text": [
      "100%|██████████| 137/137 [00:00<00:00, 259.18it/s]\n"
     ]
    },
    {
     "name": "stdout",
     "output_type": "stream",
     "text": [
      "0.9270527859237536\n",
      "0.9035087719298246\n"
     ]
    },
    {
     "name": "stderr",
     "output_type": "stream",
     "text": [
      "100%|██████████| 137/137 [00:00<00:00, 256.76it/s]\n"
     ]
    },
    {
     "name": "stdout",
     "output_type": "stream",
     "text": [
      "0.9277859237536656\n",
      "0.9035087719298246\n"
     ]
    },
    {
     "name": "stderr",
     "output_type": "stream",
     "text": [
      "100%|██████████| 137/137 [00:00<00:00, 246.18it/s]\n"
     ]
    },
    {
     "name": "stdout",
     "output_type": "stream",
     "text": [
      "0.9321847507331378\n",
      "0.9064327485380117\n"
     ]
    },
    {
     "name": "stderr",
     "output_type": "stream",
     "text": [
      "100%|██████████| 137/137 [00:00<00:00, 236.02it/s]\n"
     ]
    },
    {
     "name": "stdout",
     "output_type": "stream",
     "text": [
      "0.9362170087976539\n",
      "0.9137426900584795\n"
     ]
    },
    {
     "name": "stderr",
     "output_type": "stream",
     "text": [
      "100%|██████████| 137/137 [00:00<00:00, 241.41it/s]\n"
     ]
    },
    {
     "name": "stdout",
     "output_type": "stream",
     "text": [
      "0.9464809384164223\n",
      "0.9122807017543859\n"
     ]
    },
    {
     "name": "stderr",
     "output_type": "stream",
     "text": [
      "100%|██████████| 137/137 [00:00<00:00, 251.59it/s]\n"
     ]
    },
    {
     "name": "stdout",
     "output_type": "stream",
     "text": [
      "0.9464809384164223\n",
      "0.9093567251461988\n"
     ]
    },
    {
     "name": "stderr",
     "output_type": "stream",
     "text": [
      "100%|██████████| 137/137 [00:00<00:00, 264.17it/s]\n"
     ]
    },
    {
     "name": "stdout",
     "output_type": "stream",
     "text": [
      "0.9530791788856305\n",
      "0.922514619883041\n"
     ]
    },
    {
     "name": "stderr",
     "output_type": "stream",
     "text": [
      "100%|██████████| 137/137 [00:00<00:00, 252.98it/s]\n"
     ]
    },
    {
     "name": "stdout",
     "output_type": "stream",
     "text": [
      "0.9545454545454546\n",
      "0.9122807017543859\n"
     ]
    },
    {
     "name": "stderr",
     "output_type": "stream",
     "text": [
      "100%|██████████| 137/137 [00:00<00:00, 254.38it/s]\n"
     ]
    },
    {
     "name": "stdout",
     "output_type": "stream",
     "text": [
      "0.9494134897360704\n",
      "0.9122807017543859\n"
     ]
    },
    {
     "name": "stderr",
     "output_type": "stream",
     "text": [
      "100%|██████████| 137/137 [00:00<00:00, 243.12it/s]\n"
     ]
    },
    {
     "name": "stdout",
     "output_type": "stream",
     "text": [
      "0.9600439882697948\n",
      "0.922514619883041\n"
     ]
    },
    {
     "name": "stderr",
     "output_type": "stream",
     "text": [
      "100%|██████████| 137/137 [00:00<00:00, 245.74it/s]\n"
     ]
    },
    {
     "name": "stdout",
     "output_type": "stream",
     "text": [
      "0.9607771260997068\n",
      "0.9195906432748538\n"
     ]
    },
    {
     "name": "stderr",
     "output_type": "stream",
     "text": [
      "100%|██████████| 137/137 [00:00<00:00, 260.16it/s]\n"
     ]
    },
    {
     "name": "stdout",
     "output_type": "stream",
     "text": [
      "0.9519794721407625\n",
      "0.9152046783625731\n"
     ]
    },
    {
     "name": "stderr",
     "output_type": "stream",
     "text": [
      "100%|██████████| 137/137 [00:00<00:00, 253.44it/s]\n"
     ]
    },
    {
     "name": "stdout",
     "output_type": "stream",
     "text": [
      "0.9699413489736071\n",
      "0.9254385964912281\n"
     ]
    },
    {
     "name": "stderr",
     "output_type": "stream",
     "text": [
      "100%|██████████| 137/137 [00:00<00:00, 252.05it/s]\n"
     ]
    },
    {
     "name": "stdout",
     "output_type": "stream",
     "text": [
      "0.9659090909090909\n",
      "0.9137426900584795\n"
     ]
    },
    {
     "name": "stderr",
     "output_type": "stream",
     "text": [
      "100%|██████████| 137/137 [00:00<00:00, 259.18it/s]\n"
     ]
    },
    {
     "name": "stdout",
     "output_type": "stream",
     "text": [
      "0.9728739002932552\n",
      "0.9269005847953217\n"
     ]
    },
    {
     "name": "stderr",
     "output_type": "stream",
     "text": [
      "100%|██████████| 137/137 [00:00<00:00, 257.24it/s]\n"
     ]
    },
    {
     "name": "stdout",
     "output_type": "stream",
     "text": [
      "0.9758064516129032\n",
      "0.9269005847953217\n"
     ]
    },
    {
     "name": "stderr",
     "output_type": "stream",
     "text": [
      "100%|██████████| 137/137 [00:00<00:00, 260.66it/s]\n"
     ]
    },
    {
     "name": "stdout",
     "output_type": "stream",
     "text": [
      "0.9776392961876833\n",
      "0.9327485380116959\n"
     ]
    },
    {
     "name": "stderr",
     "output_type": "stream",
     "text": [
      "100%|██████████| 137/137 [00:00<00:00, 256.76it/s]\n"
     ]
    },
    {
     "name": "stdout",
     "output_type": "stream",
     "text": [
      "0.9725073313782991\n",
      "0.9137426900584795\n"
     ]
    },
    {
     "name": "stderr",
     "output_type": "stream",
     "text": [
      "100%|██████████| 137/137 [00:00<00:00, 249.76it/s]\n"
     ]
    },
    {
     "name": "stdout",
     "output_type": "stream",
     "text": [
      "0.9769061583577713\n",
      "0.9239766081871345\n"
     ]
    },
    {
     "name": "stderr",
     "output_type": "stream",
     "text": [
      "100%|██████████| 137/137 [00:00<00:00, 259.18it/s]\n"
     ]
    },
    {
     "name": "stdout",
     "output_type": "stream",
     "text": [
      "0.9765395894428153\n",
      "0.9429824561403509\n"
     ]
    },
    {
     "name": "stderr",
     "output_type": "stream",
     "text": [
      "100%|██████████| 137/137 [00:00<00:00, 262.65it/s]\n"
     ]
    },
    {
     "name": "stdout",
     "output_type": "stream",
     "text": [
      "0.9857038123167156\n",
      "0.9400584795321637\n"
     ]
    },
    {
     "name": "stderr",
     "output_type": "stream",
     "text": [
      "100%|██████████| 137/137 [00:00<00:00, 264.17it/s]\n"
     ]
    },
    {
     "name": "stdout",
     "output_type": "stream",
     "text": [
      "0.9827712609970675\n",
      "0.9283625730994152\n"
     ]
    },
    {
     "name": "stderr",
     "output_type": "stream",
     "text": [
      "100%|██████████| 137/137 [00:00<00:00, 266.13it/s]\n"
     ]
    },
    {
     "name": "stdout",
     "output_type": "stream",
     "text": [
      "0.9882697947214076\n",
      "0.935672514619883\n"
     ]
    },
    {
     "name": "stderr",
     "output_type": "stream",
     "text": [
      "100%|██████████| 137/137 [00:00<00:00, 256.28it/s]\n"
     ]
    },
    {
     "name": "stdout",
     "output_type": "stream",
     "text": [
      "0.9875366568914956\n",
      "0.9342105263157895\n"
     ]
    },
    {
     "name": "stderr",
     "output_type": "stream",
     "text": [
      "100%|██████████| 137/137 [00:00<00:00, 246.18it/s]\n"
     ]
    },
    {
     "name": "stdout",
     "output_type": "stream",
     "text": [
      "0.9882697947214076\n",
      "0.9342105263157895\n"
     ]
    },
    {
     "name": "stderr",
     "output_type": "stream",
     "text": [
      "100%|██████████| 137/137 [00:00<00:00, 251.59it/s]\n"
     ]
    },
    {
     "name": "stdout",
     "output_type": "stream",
     "text": [
      "0.9879032258064516\n",
      "0.9385964912280702\n"
     ]
    },
    {
     "name": "stderr",
     "output_type": "stream",
     "text": [
      "100%|██████████| 137/137 [00:00<00:00, 231.65it/s]\n"
     ]
    },
    {
     "name": "stdout",
     "output_type": "stream",
     "text": [
      "0.9824046920821115\n",
      "0.9502923976608187\n"
     ]
    },
    {
     "name": "stderr",
     "output_type": "stream",
     "text": [
      "100%|██████████| 137/137 [00:00<00:00, 256.28it/s]\n"
     ]
    },
    {
     "name": "stdout",
     "output_type": "stream",
     "text": [
      "0.9868035190615836\n",
      "0.9269005847953217\n"
     ]
    },
    {
     "name": "stderr",
     "output_type": "stream",
     "text": [
      "100%|██████████| 137/137 [00:00<00:00, 256.29it/s]\n"
     ]
    },
    {
     "name": "stdout",
     "output_type": "stream",
     "text": [
      "0.9901026392961877\n",
      "0.935672514619883\n"
     ]
    },
    {
     "name": "stderr",
     "output_type": "stream",
     "text": [
      "100%|██████████| 137/137 [00:00<00:00, 238.48it/s]\n"
     ]
    },
    {
     "name": "stdout",
     "output_type": "stream",
     "text": [
      "0.9901026392961877\n",
      "0.9415204678362573\n"
     ]
    },
    {
     "name": "stderr",
     "output_type": "stream",
     "text": [
      "100%|██████████| 137/137 [00:00<00:00, 258.21it/s]\n"
     ]
    },
    {
     "name": "stdout",
     "output_type": "stream",
     "text": [
      "0.9827712609970675\n",
      "0.9371345029239766\n"
     ]
    },
    {
     "name": "stderr",
     "output_type": "stream",
     "text": [
      "100%|██████████| 137/137 [00:00<00:00, 259.18it/s]\n"
     ]
    },
    {
     "name": "stdout",
     "output_type": "stream",
     "text": [
      "0.9897360703812317\n",
      "0.9385964912280702\n"
     ]
    },
    {
     "name": "stderr",
     "output_type": "stream",
     "text": [
      "100%|██████████| 137/137 [00:00<00:00, 259.18it/s]\n"
     ]
    },
    {
     "name": "stdout",
     "output_type": "stream",
     "text": [
      "0.9904692082111437\n",
      "0.9473684210526315\n"
     ]
    },
    {
     "name": "stderr",
     "output_type": "stream",
     "text": [
      "100%|██████████| 137/137 [00:00<00:00, 268.87it/s]\n"
     ]
    },
    {
     "name": "stdout",
     "output_type": "stream",
     "text": [
      "0.9912023460410557\n",
      "0.9429824561403509\n"
     ]
    },
    {
     "name": "stderr",
     "output_type": "stream",
     "text": [
      "100%|██████████| 137/137 [00:00<00:00, 267.29it/s]\n"
     ]
    },
    {
     "name": "stdout",
     "output_type": "stream",
     "text": [
      "0.9901026392961877\n",
      "0.9385964912280702\n"
     ]
    },
    {
     "name": "stderr",
     "output_type": "stream",
     "text": [
      "100%|██████████| 137/137 [00:00<00:00, 270.94it/s]\n"
     ]
    },
    {
     "name": "stdout",
     "output_type": "stream",
     "text": [
      "0.9904692082111437\n",
      "0.9327485380116959\n"
     ]
    },
    {
     "name": "stderr",
     "output_type": "stream",
     "text": [
      "100%|██████████| 137/137 [00:00<00:00, 253.91it/s]\n"
     ]
    },
    {
     "name": "stdout",
     "output_type": "stream",
     "text": [
      "0.9908357771260997\n",
      "0.9400584795321637\n"
     ]
    },
    {
     "name": "stderr",
     "output_type": "stream",
     "text": [
      "100%|██████████| 137/137 [00:00<00:00, 245.74it/s]\n"
     ]
    },
    {
     "name": "stdout",
     "output_type": "stream",
     "text": [
      "0.9915689149560117\n",
      "0.9429824561403509\n"
     ]
    },
    {
     "name": "stderr",
     "output_type": "stream",
     "text": [
      "100%|██████████| 137/137 [00:00<00:00, 268.82it/s]\n"
     ]
    },
    {
     "name": "stdout",
     "output_type": "stream",
     "text": [
      "0.9912023460410557\n",
      "0.9429824561403509\n"
     ]
    },
    {
     "name": "stderr",
     "output_type": "stream",
     "text": [
      "100%|██████████| 137/137 [00:00<00:00, 270.94it/s]\n"
     ]
    },
    {
     "name": "stdout",
     "output_type": "stream",
     "text": [
      "0.9919354838709677\n",
      "0.9444444444444444\n"
     ]
    },
    {
     "name": "stderr",
     "output_type": "stream",
     "text": [
      "100%|██████████| 137/137 [00:00<00:00, 249.76it/s]\n"
     ]
    },
    {
     "name": "stdout",
     "output_type": "stream",
     "text": [
      "0.9915689149560117\n",
      "0.9400584795321637\n"
     ]
    },
    {
     "name": "stderr",
     "output_type": "stream",
     "text": [
      "100%|██████████| 137/137 [00:00<00:00, 254.32it/s]\n"
     ]
    },
    {
     "name": "stdout",
     "output_type": "stream",
     "text": [
      "0.9912023460410557\n",
      "0.9342105263157895\n"
     ]
    },
    {
     "name": "stderr",
     "output_type": "stream",
     "text": [
      "100%|██████████| 137/137 [00:00<00:00, 254.38it/s]\n"
     ]
    },
    {
     "name": "stdout",
     "output_type": "stream",
     "text": [
      "0.9923020527859238\n",
      "0.9444444444444444\n"
     ]
    },
    {
     "name": "stderr",
     "output_type": "stream",
     "text": [
      "100%|██████████| 137/137 [00:00<00:00, 247.06it/s]\n"
     ]
    },
    {
     "name": "stdout",
     "output_type": "stream",
     "text": [
      "0.9919354838709677\n",
      "0.9371345029239766\n"
     ]
    },
    {
     "name": "stderr",
     "output_type": "stream",
     "text": [
      "100%|██████████| 137/137 [00:00<00:00, 197.37it/s]\n"
     ]
    },
    {
     "name": "stdout",
     "output_type": "stream",
     "text": [
      "0.9923020527859238\n",
      "0.9415204678362573\n"
     ]
    },
    {
     "name": "stderr",
     "output_type": "stream",
     "text": [
      "100%|██████████| 137/137 [00:00<00:00, 310.78it/s]\n"
     ]
    },
    {
     "name": "stdout",
     "output_type": "stream",
     "text": [
      "0.9912023460410557\n",
      "0.9415204678362573\n"
     ]
    },
    {
     "name": "stderr",
     "output_type": "stream",
     "text": [
      "100%|██████████| 137/137 [00:00<00:00, 195.12it/s]\n"
     ]
    },
    {
     "name": "stdout",
     "output_type": "stream",
     "text": [
      "0.9915689149560117\n",
      "0.9429824561403509\n"
     ]
    },
    {
     "name": "stderr",
     "output_type": "stream",
     "text": [
      "100%|██████████| 137/137 [00:00<00:00, 201.42it/s]\n"
     ]
    },
    {
     "name": "stdout",
     "output_type": "stream",
     "text": [
      "0.9923020527859238\n",
      "0.9429824561403509\n"
     ]
    },
    {
     "name": "stderr",
     "output_type": "stream",
     "text": [
      "100%|██████████| 137/137 [00:00<00:00, 273.09it/s]\n"
     ]
    },
    {
     "name": "stdout",
     "output_type": "stream",
     "text": [
      "0.9912023460410557\n",
      "0.9385964912280702\n"
     ]
    },
    {
     "name": "stderr",
     "output_type": "stream",
     "text": [
      "100%|██████████| 137/137 [00:00<00:00, 192.38it/s]\n"
     ]
    },
    {
     "name": "stdout",
     "output_type": "stream",
     "text": [
      "0.9923020527859238\n",
      "0.9473684210526315\n"
     ]
    },
    {
     "name": "stderr",
     "output_type": "stream",
     "text": [
      "100%|██████████| 137/137 [00:00<00:00, 323.98it/s]\n"
     ]
    },
    {
     "name": "stdout",
     "output_type": "stream",
     "text": [
      "0.9923020527859238\n",
      "0.9415204678362573\n"
     ]
    },
    {
     "name": "stderr",
     "output_type": "stream",
     "text": [
      "100%|██████████| 137/137 [00:00<00:00, 191.10it/s]\n"
     ]
    },
    {
     "name": "stdout",
     "output_type": "stream",
     "text": [
      "0.9864369501466276\n",
      "0.9210526315789473\n"
     ]
    },
    {
     "name": "stderr",
     "output_type": "stream",
     "text": [
      "100%|██████████| 137/137 [00:00<00:00, 198.22it/s]\n"
     ]
    },
    {
     "name": "stdout",
     "output_type": "stream",
     "text": [
      "0.9923020527859238\n",
      "0.9342105263157895\n"
     ]
    },
    {
     "name": "stderr",
     "output_type": "stream",
     "text": [
      "100%|██████████| 137/137 [00:00<00:00, 345.14it/s]\n"
     ]
    },
    {
     "name": "stdout",
     "output_type": "stream",
     "text": [
      "0.9919354838709677\n",
      "0.9429824561403509\n"
     ]
    },
    {
     "name": "stderr",
     "output_type": "stream",
     "text": [
      "100%|██████████| 137/137 [00:00<00:00, 198.79it/s]\n"
     ]
    },
    {
     "name": "stdout",
     "output_type": "stream",
     "text": [
      "0.9915689149560117\n",
      "0.9429824561403509\n"
     ]
    },
    {
     "name": "stderr",
     "output_type": "stream",
     "text": [
      "100%|██████████| 137/137 [00:00<00:00, 196.52it/s]\n"
     ]
    },
    {
     "name": "stdout",
     "output_type": "stream",
     "text": [
      "0.9915689149560117\n",
      "0.935672514619883\n"
     ]
    },
    {
     "name": "stderr",
     "output_type": "stream",
     "text": [
      "100%|██████████| 137/137 [00:00<00:00, 290.41it/s]\n"
     ]
    },
    {
     "name": "stdout",
     "output_type": "stream",
     "text": [
      "0.9915689149560117\n",
      "0.9473684210526315\n"
     ]
    },
    {
     "name": "stderr",
     "output_type": "stream",
     "text": [
      "100%|██████████| 137/137 [00:00<00:00, 197.65it/s]\n"
     ]
    },
    {
     "name": "stdout",
     "output_type": "stream",
     "text": [
      "0.9919354838709677\n",
      "0.9342105263157895\n"
     ]
    },
    {
     "name": "stderr",
     "output_type": "stream",
     "text": [
      "100%|██████████| 137/137 [00:00<00:00, 296.05it/s]\n"
     ]
    },
    {
     "name": "stdout",
     "output_type": "stream",
     "text": [
      "0.9901026392961877\n",
      "0.945906432748538\n"
     ]
    },
    {
     "name": "stderr",
     "output_type": "stream",
     "text": [
      "100%|██████████| 137/137 [00:00<00:00, 198.51it/s]\n"
     ]
    },
    {
     "name": "stdout",
     "output_type": "stream",
     "text": [
      "0.9926686217008798\n",
      "0.945906432748538\n"
     ]
    },
    {
     "name": "stderr",
     "output_type": "stream",
     "text": [
      "100%|██████████| 137/137 [00:00<00:00, 192.66it/s]\n"
     ]
    },
    {
     "name": "stdout",
     "output_type": "stream",
     "text": [
      "0.9919354838709677\n",
      "0.9473684210526315\n"
     ]
    },
    {
     "name": "stderr",
     "output_type": "stream",
     "text": [
      "100%|██████████| 137/137 [00:00<00:00, 339.18it/s]\n"
     ]
    },
    {
     "name": "stdout",
     "output_type": "stream",
     "text": [
      "0.9919354838709677\n",
      "0.9385964912280702\n"
     ]
    },
    {
     "name": "stderr",
     "output_type": "stream",
     "text": [
      "100%|██████████| 137/137 [00:00<00:00, 189.99it/s]\n"
     ]
    },
    {
     "name": "stdout",
     "output_type": "stream",
     "text": [
      "0.9912023460410557\n",
      "0.9473684210526315\n"
     ]
    },
    {
     "name": "stderr",
     "output_type": "stream",
     "text": [
      "100%|██████████| 137/137 [00:00<00:00, 240.15it/s]\n"
     ]
    },
    {
     "name": "stdout",
     "output_type": "stream",
     "text": [
      "0.9908357771260997\n",
      "0.945906432748538\n"
     ]
    },
    {
     "name": "stderr",
     "output_type": "stream",
     "text": [
      "100%|██████████| 137/137 [00:00<00:00, 211.02it/s]\n"
     ]
    },
    {
     "name": "stdout",
     "output_type": "stream",
     "text": [
      "0.9904692082111437\n",
      "0.9502923976608187\n"
     ]
    },
    {
     "name": "stderr",
     "output_type": "stream",
     "text": [
      "100%|██████████| 137/137 [00:00<00:00, 165.60it/s]\n"
     ]
    },
    {
     "name": "stdout",
     "output_type": "stream",
     "text": [
      "0.9930351906158358\n",
      "0.9444444444444444\n"
     ]
    },
    {
     "name": "stderr",
     "output_type": "stream",
     "text": [
      "100%|██████████| 137/137 [00:00<00:00, 287.38it/s]\n"
     ]
    },
    {
     "name": "stdout",
     "output_type": "stream",
     "text": [
      "0.9923020527859238\n",
      "0.9502923976608187\n"
     ]
    },
    {
     "name": "stderr",
     "output_type": "stream",
     "text": [
      "100%|██████████| 137/137 [00:00<00:00, 197.65it/s]\n"
     ]
    },
    {
     "name": "stdout",
     "output_type": "stream",
     "text": [
      "0.9923020527859238\n",
      "0.9429824561403509\n"
     ]
    },
    {
     "name": "stderr",
     "output_type": "stream",
     "text": [
      "100%|██████████| 137/137 [00:00<00:00, 206.88it/s]\n"
     ]
    },
    {
     "name": "stdout",
     "output_type": "stream",
     "text": [
      "0.9926686217008798\n",
      "0.9502923976608187\n"
     ]
    },
    {
     "name": "stderr",
     "output_type": "stream",
     "text": [
      "100%|██████████| 137/137 [00:00<00:00, 249.76it/s]\n"
     ]
    },
    {
     "name": "stdout",
     "output_type": "stream",
     "text": [
      "0.9919354838709677\n",
      "0.9312865497076024\n"
     ]
    },
    {
     "name": "stderr",
     "output_type": "stream",
     "text": [
      "100%|██████████| 137/137 [00:00<00:00, 192.39it/s]\n"
     ]
    },
    {
     "name": "stdout",
     "output_type": "stream",
     "text": [
      "0.9915689149560117\n",
      "0.9239766081871345\n"
     ]
    },
    {
     "name": "stderr",
     "output_type": "stream",
     "text": [
      "100%|██████████| 137/137 [00:00<00:00, 322.46it/s]\n"
     ]
    },
    {
     "name": "stdout",
     "output_type": "stream",
     "text": [
      "0.9930351906158358\n",
      "0.9429824561403509\n"
     ]
    },
    {
     "name": "stderr",
     "output_type": "stream",
     "text": [
      "100%|██████████| 137/137 [00:00<00:00, 217.36it/s]\n"
     ]
    },
    {
     "name": "stdout",
     "output_type": "stream",
     "text": [
      "0.9926686217008798\n",
      "0.9400584795321637\n"
     ]
    },
    {
     "name": "stderr",
     "output_type": "stream",
     "text": [
      "100%|██████████| 137/137 [00:00<00:00, 201.42it/s]\n"
     ]
    },
    {
     "name": "stdout",
     "output_type": "stream",
     "text": [
      "0.9923020527859238\n",
      "0.9327485380116959\n"
     ]
    },
    {
     "data": {
      "image/png": "[encoded data removed]",
      "text/plain": [
       "<Figure size 432x288 with 100 Axes>"
      ]
     },
     "metadata": {
      "needs_background": "light"
     },
     "output_type": "display_data"
    }
   ],
   "source": [
    "import matplotlib.pyplot as plt\n",
    "loss_list=[]\n",
    "a1_list=[]\n",
    "a2_list=[]\n",
    "p1_list=[]\n",
    "p2_list=[]\n",
    "r1_list=[]\n",
    "r2_list=[]\n",
    "for epoch in range(EPOCH):\n",
    "    x = []#用于存放横坐标\n",
    "    t_loss = []#用于存放train_loss\n",
    "    x0=-1\n",
    "    for data in tqdm(train_data_loader):\n",
    "        # print(data)\n",
    "        x0=x0+1\n",
    "        api_input, api_label = data\n",
    "        \n",
    "        # print(api_label)\n",
    "        # print(api_input)\n",
    "\n",
    "        api_input = api_input.to(DEVICE)\n",
    "        api_label = api_label.to(DEVICE).to(dtype=torch.long)\n",
    "        # rna_input = api_input[:,0:340]\n",
    "        # protein_input = api_input[:,340:640]\n",
    "        # rna_input = torch.unsqueeze(rna_input,dim=0)\n",
    "        # protein_input = torch.unsqueeze(protein_input,dim=0)\n",
    "        # print(protein_input)\n",
    "        # api_label = torch.unsqueeze(api_label,dim=0)\n",
    "        api_input= torch.unsqueeze(api_input,dim=0)\n",
    "        api_input = api_input.to(dtype=torch.float32)\n",
    "        # rna_input = rna_input.to(dtype=torch.float32)\n",
    "        # protein_input = protein_input.to(dtype=torch.float32)\n",
    "        # output = Net(rna_input,protein_input)\n",
    "        output = Net(api_input)\n",
    "        # print(output.shape)\n",
    "        # print(api_label.shape)\n",
    "        # print(output)\n",
    "        # print(api_label)\n",
    "        optimizer.zero_grad()    \n",
    "        Loss = loss_fn(output, api_label)  \n",
    "        x.append(x0)\n",
    "        \n",
    "        # t_loss.append(Loss.detach().numpy())   \n",
    "        t_loss.append(Loss.item())  \n",
    "        Loss.backward()  \n",
    "\n",
    "        optimizer.step() \n",
    "    train_loss_lines = plt.plot(x, t_loss, 'r', lw=5)\n",
    "    loss_list.append(t_loss)\n",
    "    plt.subplot(10,10,epoch+1)\n",
    "    save_path = SAVE_MODEL_PATH+f'mlp_batch20_Epoch={epoch}_lr={lr}.pth'\n",
    "    torch.save(Net, save_path)\n",
    "    a1,p1,r1=evaluate(SAVE_MODEL_PATH+f'mlp_batch20_Epoch={epoch}_lr={lr}.pth',train_data_loader)\n",
    "    a2,p2,r2=evaluate(SAVE_MODEL_PATH+f'mlp_batch20_Epoch={epoch}_lr={lr}.pth',test_data_loader)\n",
    "    a1_list.append(a1)\n",
    "    a2_list.append(a2)\n",
    "    p1_list.append(p1)\n",
    "    p2_list.append(p2)\n",
    "    r1_list.append(r1)\n",
    "    r2_list.append(r2)\n",
    "torch.save(Net, SAVE_MODEL_PATH+f'mlp_batch20_Epoch={epoch}_lr={lr}_final.pth')"
   ]
  },
  {
   "cell_type": "code",
   "execution_count": 48,
   "metadata": {},
   "outputs": [],
   "source": [
    "import numpy as np\n",
    "np.savetxt('Z:/mlpcnnsemi/model/mlp/82/mlpbatch20lr0.0001/loss_list.txt',loss_list)\n",
    "np.savetxt('Z:/mlpcnnsemi/model/mlp/82/mlpbatch20lr0.0001/train_acc_list.txt',a1_list)\n",
    "np.savetxt('Z:/mlpcnnsemi/model/mlp/82/mlpbatch20lr0.0001/train_pre_list.txt',p1_list)\n",
    "np.savetxt('Z:/mlpcnnsemi/model/mlp/82/mlpbatch20lr0.0001/train_rec_list.txt',r1_list)\n",
    "np.savetxt('Z:/mlpcnnsemi/model/mlp/82/mlpbatch20lr0.0001/test_acc_list.txt',a2_list)\n",
    "np.savetxt('Z:/mlpcnnsemi/model/mlp/82/mlpbatch20lr0.0001/test_pre_list.txt',p2_list)\n",
    "np.savetxt('Z:/mlpcnnsemi/model/mlp/82/mlpbatch20lr0.0001/test_rec_list.txt',r2_list)"
   ]
  },
  {
   "cell_type": "code",
   "execution_count": 49,
   "metadata": {},
   "outputs": [
    {
     "name": "stdout",
     "output_type": "stream",
     "text": [
      "(100,)\n",
      "0.9930351906158358\n",
      "0.9502923976608187\n",
      "0.9953917050691244\n",
      "0.9928571428571429\n",
      "0.9926686217008798\n",
      "0.813953488372093\n"
     ]
    }
   ],
   "source": [
    "c = np.loadtxt('Z:/mlpcnnsemi/model/mlp/82/mlpbatch20lr0.0001/train_acc_list.txt')\n",
    "d = np.loadtxt('Z:/mlpcnnsemi/model/mlp/82/mlpbatch20lr0.0001/test_acc_list.txt')\n",
    "pp1 = np.loadtxt('Z:/mlpcnnsemi/model/mlp/82/mlpbatch20lr0.0001/train_pre_list.txt')\n",
    "pp2 = np.loadtxt('Z:/mlpcnnsemi/model/mlp/82/mlpbatch20lr0.0001/test_pre_list.txt')\n",
    "rr1 = np.loadtxt('Z:/mlpcnnsemi/model/mlp/82/mlpbatch20lr0.0001/train_rec_list.txt')\n",
    "rr2 = np.loadtxt('Z:/mlpcnnsemi/model/mlp/82/mlpbatch20lr0.0001/test_rec_list.txt')\n",
    "l=np.loadtxt('Z:/mlpcnnsemi/model/mlp/82/mlpbatch20lr0.0001/loss_list.txt')\n",
    "print(c.shape)\n",
    "print(max(c))\n",
    "print(max(d))\n",
    "print(max(pp1))\n",
    "print(max(pp2))\n",
    "print(max(rr1))\n",
    "print(max(rr2))"
   ]
  },
  {
   "cell_type": "code",
   "execution_count": 50,
   "metadata": {},
   "outputs": [
    {
     "data": {
      "text/plain": [
       "<matplotlib.legend.Legend at 0x1e0548c6390>"
      ]
     },
     "execution_count": 50,
     "metadata": {},
     "output_type": "execute_result"
    },
    {
     "data": {
      "image/png": "[encoded data removed]",
      "text/plain": [
       "<Figure size 432x288 with 1 Axes>"
      ]
     },
     "metadata": {
      "needs_background": "light"
     },
     "output_type": "display_data"
    }
   ],
   "source": [
    "x=np.linspace(0,100,100)\n",
    "\n",
    "experiment = plt.plot(x, c, 'b', lw=1,label=\"train_accuracy\")\n",
    "experiment2 = plt.plot(x, d, 'r', lw=1,label=\"test_accuracy\")\n",
    "plt.xlabel(\"epoch\") #设置X轴的文字\n",
    "plt.ylabel(\"accuracy /%\")\n",
    "plt.title('MLP')\n",
    "plt.legend(loc=0)"
   ]
  },
  {
   "cell_type": "code",
   "execution_count": 51,
   "metadata": {},
   "outputs": [
    {
     "data": {
      "text/plain": [
       "<matplotlib.legend.Legend at 0x1e054ed1be0>"
      ]
     },
     "execution_count": 51,
     "metadata": {},
     "output_type": "execute_result"
    },
    {
     "data": {
      "image/png": "[encoded data removed]",
      "text/plain": [
       "<Figure size 432x288 with 1 Axes>"
      ]
     },
     "metadata": {
      "needs_background": "light"
     },
     "output_type": "display_data"
    }
   ],
   "source": [
    "# \n",
    "x=np.linspace(0,100,100)\n",
    "\n",
    "experiment = plt.plot(x, pp1, 'y', lw=1,label=\"train_precise\")\n",
    "experiment2 = plt.plot(x, pp2, 'g', lw=1,label=\"test_precise\")\n",
    "plt.xlabel(\"epoch\") #设置X轴的文字\n",
    "plt.ylabel(\"precise /%\")\n",
    "plt.title('MLP')\n",
    "plt.legend(loc=0)"
   ]
  },
  {
   "cell_type": "code",
   "execution_count": 52,
   "metadata": {},
   "outputs": [
    {
     "data": {
      "text/plain": [
       "<matplotlib.legend.Legend at 0x1e05562b8d0>"
      ]
     },
     "execution_count": 52,
     "metadata": {},
     "output_type": "execute_result"
    },
    {
     "data": {
      "image/png": "[encoded data removed]",
      "text/plain": [
       "<Figure size 432x288 with 1 Axes>"
      ]
     },
     "metadata": {
      "needs_background": "light"
     },
     "output_type": "display_data"
    }
   ],
   "source": [
    "# recall\n",
    "x=np.linspace(0,100,100)\n",
    "\n",
    "experiment = plt.plot(x, rr1, 'y', lw=1,label=\"train_recall\")\n",
    "experiment2 = plt.plot(x, rr2, 'g', lw=1,label=\"test_recall\")\n",
    "plt.xlabel(\"epoch\") #设置X轴的文字\n",
    "plt.ylabel(\"recall /%\")\n",
    "plt.title('MLP')\n",
    "plt.legend(loc=0)"
   ]
  },
  {
   "cell_type": "code",
   "execution_count": 56,
   "metadata": {},
   "outputs": [
    {
     "data": {
      "text/plain": [
       "<matplotlib.legend.Legend at 0x1e05724fb00>"
      ]
     },
     "execution_count": 56,
     "metadata": {},
     "output_type": "execute_result"
    },
    {
     "data": {
      "image/png": "[encoded data removed]",
      "text/plain": [
       "<Figure size 432x288 with 1 Axes>"
      ]
     },
     "metadata": {
      "needs_background": "light"
     },
     "output_type": "display_data"
    }
   ],
   "source": [
    "l=np.loadtxt('Z:/mlpcnnsemi/model/mlp/82/mlpbatch1lr0.0001/loss_list.txt')\n",
    "l2=np.loadtxt('Z:/mlpcnnsemi/model/mlp/64/mlpbatch1lr0.0001/loss_list.txt')\n",
    "loss_avg=[]\n",
    "loss_avg2=[]\n",
    "for i in range(100):\n",
    "    loss_avg.append(l[i].mean())\n",
    "    loss_avg2.append(l2[i].mean())\n",
    "x=np.linspace(0,100,100)\n",
    "\n",
    "experiment = plt.plot(x, loss_avg, 'y', lw=1,label=\"train_loss 8:2\")\n",
    "experiment2 = plt.plot(x, loss_avg2, 'g', lw=1,label=\"train_loss 6:4\")\n",
    "\n",
    "plt.xlabel(\"epoch\") #设置X轴的文字\n",
    "plt.ylabel(\"loss /%\")\n",
    "plt.title('MLP')\n",
    "plt.legend(loc=0)"
   ]
  },
  {
   "cell_type": "code",
   "execution_count": 53,
   "metadata": {},
   "outputs": [
    {
     "name": "stdout",
     "output_type": "stream",
     "text": [
      "137\n"
     ]
    },
    {
     "data": {
      "image/png": "[encoded data removed]",
      "text/plain": [
       "<Figure size 360x288 with 6 Axes>"
      ]
     },
     "metadata": {
      "needs_background": "light"
     },
     "output_type": "display_data"
    }
   ],
   "source": [
    "print(l.shape[1])\n",
    "x=np.linspace(0,l.shape[1],l.shape[1])\n",
    "plt.figure(figsize=(5, 4))\n",
    "for i in range (5):\n",
    "    plt.subplot(2,3,i+1)\n",
    "    \n",
    "    experiment = plt.plot(x, l[i*20], 'r', lw=2)\n",
    "\n",
    "    plt.xlabel(\"samples\") #设置X轴的文字\n",
    "    plt.ylabel(\"loss /%\")\n",
    "    plt.title('MLP_'+'epoch_'+str(i*20))\n",
    "\n",
    "plt.subplot(2,3,6)\n",
    "\n",
    "experiment = plt.plot(x, l[99], 'r', lw=2)\n",
    "\n",
    "plt.xlabel(\"samples\") #设置X轴的文字\n",
    "plt.ylabel(\"loss /%\")\n",
    "plt.title('MLP_'+'epoch_'+'99')\n",
    "\n",
    "plt.tight_layout(h_pad=2)\n",
    "    "
   ]
  },
  {
   "cell_type": "code",
   "execution_count": 18,
   "metadata": {},
   "outputs": [],
   "source": [
    "import numpy as np\n",
    "\n",
    "import torch\n",
    "import torch.nn as nn\n",
    "import torch.nn.functional as F\n",
    "import torch.optim as optim\n",
    "\n",
    "class NeuralNet(nn.Module):\n",
    "    def __init__(self, lrate = 0.001, loss_fn = nn.CrossEntropyLoss()):\n",
    "        super(NeuralNet, self).__init__()\n",
    "\n",
    "\n",
    "        self.conv1 = nn.Sequential(nn.Conv1d(1,8,kernel_size=1),\n",
    "                                   nn.BatchNorm1d(8),\n",
    "                                   nn.LeakyReLU()\n",
    "        )\n",
    "        self.conv2 = nn.Sequential(nn.Conv1d(8,16,kernel_size=1),\n",
    "                                   nn.BatchNorm1d(16),\n",
    "                                   nn.LeakyReLU()\n",
    "        )\n",
    "        self.conv3 = nn.Sequential(nn.Conv1d(1,8,kernel_size=3,stride=2),\n",
    "                                   nn.BatchNorm1d(8),\n",
    "                                   nn.LeakyReLU()\n",
    "        )\n",
    "        self.conv4 = nn.Sequential(nn.Conv1d(8,16,kernel_size=3,stride=2),\n",
    "                                   nn.BatchNorm1d(16),\n",
    "                                   nn.LeakyReLU()\n",
    "        )\n",
    "\n",
    "        self.conv5 = nn.Sequential(nn.Conv1d(16,8,kernel_size=3,stride=2),\n",
    "                                   nn.BatchNorm1d(8),\n",
    "                                   nn.MaxPool1d(kernel_size=2),\n",
    "                                   nn.LeakyReLU()\n",
    "        )\n",
    "        self.conv6 = nn.Sequential(nn.Conv1d(8,1,kernel_size=3,stride=2),\n",
    "                                   nn.BatchNorm1d(1),\n",
    "                                   nn.MaxPool1d(kernel_size=2),\n",
    "                                   nn.LeakyReLU()\n",
    "        )\n",
    "\n",
    "        self.conv7 = nn.Linear(25,10)\n",
    "        self.conv8 = nn.Linear(10,2)\n",
    "\n",
    "        # self.conv1=nn.Conv1d(1, 1, kernel_size=3, stride=1, padding=0, dilation=1, groups=1, bias=True)\n",
    "        # self.batchnorm=nn.BatchNorm1d(num_features=1),\n",
    "        # self.Relu=nn.ReLU()\n",
    "        # self.pool=nn.MaxPool1d(kernel_size=3)\n",
    "        # self.fc1=nn.Linear(64*4*4, 64)\n",
    "        # self.dropout=nn.Dropout()\n",
    "        # self.fc2 = nn.Linear(64, 10)\n",
    "\n",
    "        self.loss_fn = loss_fn\n",
    "        self.lrate=lrate        \n",
    "        self.optimizer=optim.SGD(self.parameters(),self.lrate,momentum=0.9)\n",
    "    def forward(self, rna, protein):\n",
    "        \"\"\"Performs a forward pass through your neural net (evaluates f(x)).\n",
    "\n",
    "        @param x: an (N, in_size) Tensor\n",
    "        @return y: an (N, out_size) Tensor of output from the network\n",
    "        \"\"\"\n",
    "        '''\n",
    "        extractor for protein \n",
    "        '''\n",
    "        \n",
    "        rna = self.conv1(rna)\n",
    "        rna = self.conv2(rna)\n",
    "\n",
    "        protein = self.conv3(protein)\n",
    "        \n",
    "        protein = self.conv4(protein)\n",
    "\n",
    "        x = torch.cat((rna,protein),dim=2)\n",
    "        x = self.conv5(x)\n",
    "        x = self.conv6(x)\n",
    "        # print(x.shape)\n",
    "        x = self.conv7(x)\n",
    "        x = self.conv8(x)\n",
    "        x = torch.squeeze(x,dim=0)\n",
    "        return x"
   ]
  }
 ],
 "metadata": {
  "kernelspec": {
   "display_name": "Python 3.7.3 ('base')",
   "language": "python",
   "name": "python3"
  },
  "language_info": {
   "codemirror_mode": {
    "name": "ipython",
    "version": 3
   },
   "file_extension": ".py",
   "mimetype": "text/x-python",
   "name": "python",
   "nbconvert_exporter": "python",
   "pygments_lexer": "ipython3",
   "version": "3.7.3"
  },
  "orig_nbformat": 4,
  "vscode": {
   "interpreter": {
    "hash": "ad2bdc8ecc057115af97d19610ffacc2b4e99fae6737bb82f5d7fb13d2f2c186"
   }
  }
 },
 "nbformat": 4,
 "nbformat_minor": 2
}
